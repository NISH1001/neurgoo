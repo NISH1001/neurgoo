{
 "cells": [
  {
   "cell_type": "code",
   "execution_count": 1,
   "id": "b3b9ca90",
   "metadata": {},
   "outputs": [],
   "source": [
    "%load_ext autoreload\n",
    "%autoreload 2"
   ]
  },
  {
   "cell_type": "markdown",
   "id": "b913d8a7",
   "metadata": {},
   "source": [
    "This notebook is a tentative overview of how we can use my custom library `neurgoo` to train ANNs.\n",
    "\n",
    "Everything is written from scratch, directly utilizing `numpy`'s arrays and vectorizations.\n",
    "\n",
    "`neurgoo`'s philosophy is to be as modular as possible, inspired from PyTorch's API design."
   ]
  },
  {
   "cell_type": "markdown",
   "id": "68486427",
   "metadata": {},
   "source": [
    "# Relevant Standard Imports"
   ]
  },
  {
   "cell_type": "code",
   "execution_count": 2,
   "id": "996d96c2",
   "metadata": {},
   "outputs": [],
   "source": [
    "import numpy as np\n",
    "import matplotlib.pyplot as plt\n",
    "\n",
    "%matplotlib inline"
   ]
  },
  {
   "cell_type": "code",
   "execution_count": 3,
   "id": "68400d97",
   "metadata": {},
   "outputs": [],
   "source": [
    "from sklearn.model_selection import train_test_split"
   ]
  },
  {
   "cell_type": "code",
   "execution_count": 4,
   "id": "f27d7dd1",
   "metadata": {},
   "outputs": [
    {
     "name": "stderr",
     "output_type": "stream",
     "text": [
      "2022-03-01 17:43:04.919335: W tensorflow/stream_executor/platform/default/dso_loader.cc:64] Could not load dynamic library 'libcudart.so.11.0'; dlerror: libcudart.so.11.0: cannot open shared object file: No such file or directory\n",
      "2022-03-01 17:43:04.919370: I tensorflow/stream_executor/cuda/cudart_stub.cc:29] Ignore above cudart dlerror if you do not have a GPU set up on your machine.\n"
     ]
    }
   ],
   "source": [
    "from keras.datasets import mnist"
   ]
  },
  {
   "cell_type": "code",
   "execution_count": 5,
   "id": "23f00414",
   "metadata": {},
   "outputs": [],
   "source": [
    "import tensorflow as tf"
   ]
  },
  {
   "cell_type": "code",
   "execution_count": 6,
   "id": "07af2f97",
   "metadata": {},
   "outputs": [],
   "source": [
    "from pprint import pprint"
   ]
  },
  {
   "cell_type": "markdown",
   "id": "f3b7407a",
   "metadata": {},
   "source": [
    "# Data Preprocessing\n",
    "\n",
    "In this section we:\n",
    "- load MNIST data\n",
    "- normalize pixels to [0, 1] (dividing pixel values by 255)\n",
    "- do train/val/test splits.\n",
    "\n",
    "## Train/Val/Test splits\n",
    "\n",
    "Since we're using data from keras module, it only returns "
   ]
  },
  {
   "cell_type": "code",
   "execution_count": 7,
   "id": "52b44682",
   "metadata": {},
   "outputs": [],
   "source": [
    "def load_data():\n",
    "    \"\"\"\n",
    "        This loader function encapsulates preprocessing as well as data splits\n",
    "    \"\"\"\n",
    "    (X_train, Y_train), (X_test, Y_test) = mnist.load_data()\n",
    "    Y_train = tf.keras.utils.to_categorical(Y_train)\n",
    "    Y_test = tf.keras.utils.to_categorical(Y_test)\n",
    "    h, w = X_train[0].shape\n",
    "    X_train = X_train.reshape((len(X_train), w*h))/255\n",
    "    X_test = X_test.reshape((len(X_test), w*h))/255\n",
    "    \n",
    "    X_val, X_test, Y_val, Y_test = train_test_split(X_test, Y_test, test_size=0.5)\n",
    "    return (X_train, Y_train), (X_val, Y_val), (X_test, Y_test)"
   ]
  },
  {
   "cell_type": "code",
   "execution_count": 8,
   "id": "3541c3c6",
   "metadata": {},
   "outputs": [],
   "source": [
    "(X_train, Y_train), (X_val, Y_val), (X_test, Y_test) = load_data()"
   ]
  },
  {
   "cell_type": "code",
   "execution_count": 9,
   "id": "2bc9e813",
   "metadata": {},
   "outputs": [
    {
     "data": {
      "text/plain": [
       "((60000, 784), (60000, 10))"
      ]
     },
     "execution_count": 9,
     "metadata": {},
     "output_type": "execute_result"
    }
   ],
   "source": [
    "X_train.shape, Y_train.shape"
   ]
  },
  {
   "cell_type": "code",
   "execution_count": 10,
   "id": "9d85f794",
   "metadata": {},
   "outputs": [
    {
     "data": {
      "text/plain": [
       "((5000, 784), (5000, 10))"
      ]
     },
     "execution_count": 10,
     "metadata": {},
     "output_type": "execute_result"
    }
   ],
   "source": [
    "X_val.shape, Y_val.shape"
   ]
  },
  {
   "cell_type": "code",
   "execution_count": 11,
   "id": "4e5332f8",
   "metadata": {},
   "outputs": [
    {
     "data": {
      "text/plain": [
       "((5000, 784), (5000, 10))"
      ]
     },
     "execution_count": 11,
     "metadata": {},
     "output_type": "execute_result"
    }
   ],
   "source": [
    "X_test.shape, Y_test.shape"
   ]
  },
  {
   "cell_type": "markdown",
   "id": "0140eec5",
   "metadata": {},
   "source": [
    "# Custom Library implementation\n",
    "\n",
    "Now, we're going to use my `neurgoo` library (see `neurgoo` packages).\n",
    "\n",
    "There are mostly 5 components  that are needed for training:\n",
    "- layers (either linear or activation)\n",
    "- models (encapsulate N number of layers into a container)\n",
    "- losses (compute loss and gradient to find final dJ/dW)\n",
    "- optimizers (perform weight update operation)\n",
    "- trainers (encapsulate all the training loop into one single coherent method)\n",
    "\n",
    "> See the report for more details on the architecture and implementation"
   ]
  },
  {
   "cell_type": "markdown",
   "id": "6a26e640",
   "metadata": {},
   "source": [
    "## Import all the necessary stuff\n",
    "\n",
    "Note: Please `pip install requirements.txt` first.\n",
    "\n",
    "`neurgoo` can also be installed locally as:\n",
    "- `pip install -e .`\n",
    "- or `python setup.py install`\n",
    "- or simple copy-paste the package `neurgoo` anywhere to use it."
   ]
  },
  {
   "cell_type": "markdown",
   "id": "56527fb7",
   "metadata": {},
   "source": [
    "### Layers"
   ]
  },
  {
   "cell_type": "code",
   "execution_count": 12,
   "id": "f7c187e1",
   "metadata": {},
   "outputs": [],
   "source": [
    "from neurgoo.layers.linear import Linear\n",
    "from neurgoo.layers.activations import(\n",
    "    ReLU,\n",
    "    Sigmoid,\n",
    "    Softmax,\n",
    ")"
   ]
  },
  {
   "cell_type": "markdown",
   "id": "ec18422e",
   "metadata": {},
   "source": [
    "### Models"
   ]
  },
  {
   "cell_type": "code",
   "execution_count": 13,
   "id": "0487b4d1",
   "metadata": {},
   "outputs": [],
   "source": [
    "from neurgoo.models import DefaultNNModel"
   ]
  },
  {
   "cell_type": "markdown",
   "id": "3c7f6090",
   "metadata": {},
   "source": [
    "### Losses"
   ]
  },
  {
   "cell_type": "code",
   "execution_count": 14,
   "id": "f60322c0",
   "metadata": {},
   "outputs": [],
   "source": [
    "from neurgoo.losses import (\n",
    "    BinaryCrossEntropyLoss,\n",
    "    CrossEntropyLossWithLogits,\n",
    "    HingeLoss,\n",
    "    MeanSquaredError,\n",
    ")"
   ]
  },
  {
   "cell_type": "markdown",
   "id": "3176923c",
   "metadata": {},
   "source": [
    "### Optimizers"
   ]
  },
  {
   "cell_type": "code",
   "execution_count": 15,
   "id": "c966fda3",
   "metadata": {},
   "outputs": [],
   "source": [
    "from neurgoo.optimizers import SGD"
   ]
  },
  {
   "cell_type": "markdown",
   "id": "c7891760",
   "metadata": {},
   "source": [
    "### Trainers"
   ]
  },
  {
   "cell_type": "code",
   "execution_count": 16,
   "id": "54f642f2",
   "metadata": {},
   "outputs": [],
   "source": [
    "from neurgoo.trainers import DefaultModelTrainer"
   ]
  },
  {
   "cell_type": "markdown",
   "id": "6503e30e",
   "metadata": {},
   "source": [
    "### Evaluators"
   ]
  },
  {
   "cell_type": "code",
   "execution_count": 17,
   "id": "dfb7d068",
   "metadata": {},
   "outputs": [],
   "source": [
    "from neurgoo.misc.eval import Evaluator"
   ]
  },
  {
   "cell_type": "markdown",
   "id": "02005f77",
   "metadata": {},
   "source": [
    "## Combine Components for training\n",
    "\n",
    "Now we use available components to form one coherent trainer"
   ]
  },
  {
   "cell_type": "markdown",
   "id": "875497d0",
   "metadata": {},
   "source": [
    "### build model\n",
    "\n",
    "We can add any number of layers. \n",
    "\n",
    "Each `Linear` layer can take `in_features` number of inputs and gives `num_neurons` number of output.\n",
    "\n",
    "Linear layer also has different initialization methods which we can access right after building the layer object.\n",
    "(This is like a builder design pattern):\n",
    "- `initialize_random()` initializes weights randomly\n",
    "- `initialize_gaussian(variance=...)` initializes weights from a gaussian distribution with **mu** centered at 0 and variance supplied\n",
    "\n",
    "Each layer's forward pass is done through `feed_forward(...)` method.   \n",
    "Each layer's backward pass is done through `backpropagate(...)` method."
   ]
  },
  {
   "cell_type": "markdown",
   "id": "6842e633",
   "metadata": {},
   "source": [
    "### model 1"
   ]
  },
  {
   "cell_type": "code",
   "execution_count": 40,
   "id": "13c4b16f",
   "metadata": {},
   "outputs": [
    {
     "data": {
      "text/plain": [
       "<neurgoo.models.DefaultNNModel at 0x7ff8f1b60070>"
      ]
     },
     "execution_count": 40,
     "metadata": {},
     "output_type": "execute_result"
    }
   ],
   "source": [
    "# a model with single hidden layer with 512 neurons\n",
    "model = DefaultNNModel()\n",
    "model.add_layer(\n",
    "    Linear(num_neurons=512, in_features=X_train.shape[1])\\\n",
    "    .initialize_gaussian(variance=2/784)\n",
    ")\n",
    "model.add_layer(ReLU())\n",
    "model.add_layer(Linear(num_neurons=10, in_features=512))"
   ]
  },
  {
   "cell_type": "markdown",
   "id": "d89b3b84",
   "metadata": {},
   "source": [
    "### model 2"
   ]
  },
  {
   "cell_type": "code",
   "execution_count": 41,
   "id": "475b7357",
   "metadata": {},
   "outputs": [
    {
     "data": {
      "text/plain": [
       "<neurgoo.models.DefaultNNModel at 0x7ff8f1c0f1c0>"
      ]
     },
     "execution_count": 41,
     "metadata": {},
     "output_type": "execute_result"
    }
   ],
   "source": [
    "# a model with single hidden layer with 128 neurons\n",
    "model = DefaultNNModel()\n",
    "model.add_layer(\n",
    "    Linear(num_neurons=128, in_features=X_train.shape[1])\\\n",
    "    .initialize_gaussian(variance=2/784)\n",
    ")\n",
    "model.add_layer(ReLU())\n",
    "model.add_layer(Linear(num_neurons=10, in_features=128))"
   ]
  },
  {
   "cell_type": "markdown",
   "id": "fea02f40",
   "metadata": {},
   "source": [
    "### model 3"
   ]
  },
  {
   "cell_type": "code",
   "execution_count": 49,
   "id": "4d345513",
   "metadata": {},
   "outputs": [
    {
     "data": {
      "text/plain": [
       "<neurgoo.models.DefaultNNModel at 0x7ff8f1be3550>"
      ]
     },
     "execution_count": 49,
     "metadata": {},
     "output_type": "execute_result"
    }
   ],
   "source": [
    "# a model with 2 hidden layers\n",
    "model = DefaultNNModel()\n",
    "model.add_layer(\n",
    "    Linear(num_neurons=256, in_features=X_train.shape[1])\\\n",
    "    .initialize_gaussian(variance=2/784)\n",
    ")\n",
    "model.add_layer(ReLU())\n",
    "model.add_layer(\n",
    "    Linear(num_neurons=128, in_features=256)\\\n",
    "    .initialize_gaussian(variance=2/256)\n",
    ")\n",
    "model.add_layer(ReLU())\n",
    "model.add_layer(Linear(num_neurons=10, in_features=128))"
   ]
  },
  {
   "cell_type": "markdown",
   "id": "dd92f95c",
   "metadata": {},
   "source": [
    "#### model 4"
   ]
  },
  {
   "cell_type": "code",
   "execution_count": 22,
   "id": "cd45ed98",
   "metadata": {},
   "outputs": [
    {
     "data": {
      "text/plain": [
       "<neurgoo.models.DefaultNNModel at 0x7ff8f2576610>"
      ]
     },
     "execution_count": 22,
     "metadata": {},
     "output_type": "execute_result"
    }
   ],
   "source": [
    "# a model with 2 hidden layers\n",
    "model = DefaultNNModel()\n",
    "model.add_layer(\n",
    "    Linear(num_neurons=512, in_features=X_train.shape[1]).initialize_gaussian()\n",
    ")\n",
    "model.add_layer(ReLU())\n",
    "model.add_layer(\n",
    "    Linear(num_neurons=256, in_features=512).initialize_gaussian()\n",
    ")\n",
    "model.add_layer(ReLU())\n",
    "model.add_layer(Linear(num_neurons=10, in_features=256))"
   ]
  },
  {
   "cell_type": "code",
   "execution_count": 50,
   "id": "8f113d05",
   "metadata": {},
   "outputs": [
    {
     "name": "stdout",
     "output_type": "stream",
     "text": [
      "[Model=(DefaultNNModel, DefaultNNModel)]\n",
      "num_layers=5\n",
      "Layers=[\n",
      "Linear || Shape: ((None, 784), (None, 256)) || trainable: True\n",
      "ReLU || Attrs => {'_input_cache': array(0), 'mode': 'train'}\n",
      "Linear || Shape: ((None, 256), (None, 128)) || trainable: True\n",
      "ReLU || Attrs => {'_input_cache': array(0), 'mode': 'train'}\n",
      "Linear || Shape: ((None, 128), (None, 10)) || trainable: True\n",
      "]\n"
     ]
    }
   ],
   "source": [
    "print(model)"
   ]
  },
  {
   "cell_type": "markdown",
   "id": "d2e22b2f",
   "metadata": {},
   "source": [
    "### build optimizer"
   ]
  },
  {
   "cell_type": "code",
   "execution_count": 51,
   "id": "53ee7c37",
   "metadata": {},
   "outputs": [
    {
     "name": "stdout",
     "output_type": "stream",
     "text": [
      "(OptimParam || requires_grad=True || val_shape = (784, 256) || grad_shape = (), OptimParam || requires_grad=True || val_shape = (1, 256) || grad_shape = (), OptimParam || requires_grad=True || val_shape = (256, 128) || grad_shape = (), OptimParam || requires_grad=True || val_shape = (1, 128) || grad_shape = (), OptimParam || requires_grad=True || val_shape = (128, 10) || grad_shape = (), OptimParam || requires_grad=True || val_shape = (1, 10) || grad_shape = ())\n"
     ]
    }
   ],
   "source": [
    "params = model.params()\n",
    "print(params)"
   ]
  },
  {
   "cell_type": "code",
   "execution_count": 54,
   "id": "21da586d",
   "metadata": {},
   "outputs": [],
   "source": [
    "optimizer = SGD(params=params, lr=0.001)"
   ]
  },
  {
   "cell_type": "markdown",
   "id": "6d1aa701",
   "metadata": {},
   "source": [
    "### build loss"
   ]
  },
  {
   "cell_type": "code",
   "execution_count": 55,
   "id": "b622f2eb",
   "metadata": {},
   "outputs": [],
   "source": [
    "# loss = CrossEntropyLossWithLogits()\n",
    "loss = HingeLoss()"
   ]
  },
  {
   "cell_type": "markdown",
   "id": "290b3ee8",
   "metadata": {},
   "source": [
    "### build trainer"
   ]
  },
  {
   "cell_type": "code",
   "execution_count": 56,
   "id": "b681b907",
   "metadata": {},
   "outputs": [],
   "source": [
    "# helper component for evaluating the model\n",
    "evaluator = Evaluator(num_classes=10)"
   ]
  },
  {
   "cell_type": "code",
   "execution_count": 57,
   "id": "1d3eeeb7",
   "metadata": {},
   "outputs": [],
   "source": [
    "trainer = DefaultModelTrainer(\n",
    "    model=model,\n",
    "    optimizer=optimizer,\n",
    "    evaluator=evaluator,\n",
    "    loss=loss,\n",
    "    debug=False,\n",
    ")"
   ]
  },
  {
   "cell_type": "markdown",
   "id": "3b0b6824",
   "metadata": {},
   "source": [
    "## Start Training\n",
    "\n",
    "We call `fit(...)` method of the trainer.The trainer takes in splitted data, number of epochs and batch_size.\n",
    "\n",
    "Once the training is done, we get a ``dict`` that represents history of train/val/test for each epoch.\n",
    "> Note: test is evaluated only when the whole training is complete,  after the end of last epoch.\n",
    "\n",
    "During training, several debug logs are also printed like:\n",
    "- Information about number of epochs passed\n",
    "- Train accuracy/loss\n",
    "- Validation accuracy/loss"
   ]
  },
  {
   "cell_type": "code",
   "execution_count": 58,
   "id": "eb700f51",
   "metadata": {},
   "outputs": [
    {
     "name": "stdout",
     "output_type": "stream",
     "text": [
      "Linear || Shape: ((None, 128), (None, 10)) || trainable: True <neurgoo.losses.HingeLoss object at 0x7ff8f1b60c70>\n"
     ]
    }
   ],
   "source": [
    "print(model[-1], loss)"
   ]
  },
  {
   "cell_type": "code",
   "execution_count": 59,
   "id": "91990fde",
   "metadata": {},
   "outputs": [
    {
     "name": "stderr",
     "output_type": "stream",
     "text": [
      "2022-03-01 17:54:27.688 | INFO     | neurgoo.trainers:fit:83 - Training | nepochs=75 | batch_size=64\n",
      "938it [00:06, 137.03it/s]\n",
      "2022-03-01 17:54:35.799 | DEBUG    | neurgoo.trainers:fit:142 - Epoch=1/75 | Epoch Train Cost=2.388252621715065 | | Epoch Val Cost=0.8745363463226647 | Train Acc=0.8517833333333333 | Val Acc=0.8674 | Delta time=7.956098318099976\n",
      "938it [00:06, 150.80it/s]\n",
      "2022-03-01 17:54:43.204 | DEBUG    | neurgoo.trainers:fit:142 - Epoch=2/75 | Epoch Train Cost=0.784920109563179 | | Epoch Val Cost=0.6211433984710664 | Train Acc=0.8816333333333334 | Val Acc=0.8902 | Delta time=7.179432153701782\n",
      "938it [00:07, 126.58it/s]\n",
      "2022-03-01 17:54:51.809 | DEBUG    | neurgoo.trainers:fit:142 - Epoch=3/75 | Epoch Train Cost=0.6160126179947839 | | Epoch Val Cost=0.5284961513639943 | Train Acc=0.8943 | Val Acc=0.9026 | Delta time=8.382171154022217\n",
      "938it [00:07, 122.00it/s]\n",
      "2022-03-01 17:55:00.708 | DEBUG    | neurgoo.trainers:fit:142 - Epoch=4/75 | Epoch Train Cost=0.5357843644835831 | | Epoch Val Cost=0.47725617069814097 | Train Acc=0.9013333333333333 | Val Acc=0.909 | Delta time=8.681283235549927\n",
      "938it [00:07, 130.28it/s]\n",
      "2022-03-01 17:55:09.119 | DEBUG    | neurgoo.trainers:fit:142 - Epoch=5/75 | Epoch Train Cost=0.4867780047229557 | | Epoch Val Cost=0.44310650297232507 | Train Acc=0.9068333333333334 | Val Acc=0.9146 | Delta time=8.20249891281128\n",
      "938it [00:06, 137.71it/s]\n",
      "2022-03-01 17:55:17.241 | DEBUG    | neurgoo.trainers:fit:142 - Epoch=6/75 | Epoch Train Cost=0.45185245088564 | | Epoch Val Cost=0.41631436221160495 | Train Acc=0.9114833333333333 | Val Acc=0.9164 | Delta time=7.9110047817230225\n",
      "938it [00:08, 109.52it/s]\n",
      "2022-03-01 17:55:27.202 | DEBUG    | neurgoo.trainers:fit:142 - Epoch=7/75 | Epoch Train Cost=0.4246390236342028 | | Epoch Val Cost=0.3946568080575891 | Train Acc=0.91515 | Val Acc=0.924 | Delta time=9.716197967529297\n",
      "938it [00:08, 110.35it/s]\n",
      "2022-03-01 17:55:37.023 | DEBUG    | neurgoo.trainers:fit:142 - Epoch=8/75 | Epoch Train Cost=0.40305102702706097 | | Epoch Val Cost=0.37940973762074826 | Train Acc=0.9190666666666667 | Val Acc=0.924 | Delta time=9.550744533538818\n",
      "938it [00:09, 102.14it/s]\n",
      "2022-03-01 17:55:47.495 | DEBUG    | neurgoo.trainers:fit:142 - Epoch=9/75 | Epoch Train Cost=0.3844931098643734 | | Epoch Val Cost=0.3635861857418352 | Train Acc=0.92195 | Val Acc=0.929 | Delta time=10.235835075378418\n",
      "938it [00:07, 131.77it/s]\n",
      "2022-03-01 17:55:55.990 | DEBUG    | neurgoo.trainers:fit:142 - Epoch=10/75 | Epoch Train Cost=0.36868778362916954 | | Epoch Val Cost=0.3514930871018958 | Train Acc=0.92485 | Val Acc=0.9294 | Delta time=8.245856761932373\n",
      "938it [00:06, 155.09it/s]\n",
      "2022-03-01 17:56:03.259 | DEBUG    | neurgoo.trainers:fit:142 - Epoch=11/75 | Epoch Train Cost=0.3539628617824243 | | Epoch Val Cost=0.3398191059536695 | Train Acc=0.9276 | Val Acc=0.9314 | Delta time=7.044439315795898\n",
      "938it [00:07, 129.88it/s]\n",
      "2022-03-01 17:56:11.850 | DEBUG    | neurgoo.trainers:fit:142 - Epoch=12/75 | Epoch Train Cost=0.34102553950209186 | | Epoch Val Cost=0.33017011711744715 | Train Acc=0.9292833333333334 | Val Acc=0.9332 | Delta time=8.343814373016357\n",
      "938it [00:06, 148.35it/s]\n",
      "2022-03-01 17:56:19.418 | DEBUG    | neurgoo.trainers:fit:142 - Epoch=13/75 | Epoch Train Cost=0.32941985297794174 | | Epoch Val Cost=0.31924965733315885 | Train Acc=0.93195 | Val Acc=0.9362 | Delta time=7.306897878646851\n",
      "938it [00:06, 138.93it/s]\n",
      "2022-03-01 17:56:27.416 | DEBUG    | neurgoo.trainers:fit:142 - Epoch=14/75 | Epoch Train Cost=0.3179910628370429 | | Epoch Val Cost=0.3100422854049793 | Train Acc=0.9332 | Val Acc=0.9364 | Delta time=7.787307977676392\n",
      "938it [00:07, 129.54it/s]\n",
      "2022-03-01 17:56:36.007 | DEBUG    | neurgoo.trainers:fit:142 - Epoch=15/75 | Epoch Train Cost=0.3080200323512392 | | Epoch Val Cost=0.2989303857440952 | Train Acc=0.9352833333333334 | Val Acc=0.9382 | Delta time=8.355669498443604\n",
      "938it [00:07, 127.38it/s]\n",
      "2022-03-01 17:56:44.741 | DEBUG    | neurgoo.trainers:fit:142 - Epoch=16/75 | Epoch Train Cost=0.29835063618044916 | | Epoch Val Cost=0.292408418830984 | Train Acc=0.9369166666666666 | Val Acc=0.939 | Delta time=8.460988283157349\n",
      "938it [00:06, 155.79it/s]\n",
      "2022-03-01 17:56:52.040 | DEBUG    | neurgoo.trainers:fit:142 - Epoch=17/75 | Epoch Train Cost=0.28948105406818375 | | Epoch Val Cost=0.28686570759820407 | Train Acc=0.9377 | Val Acc=0.9414 | Delta time=7.037906646728516\n",
      "938it [00:07, 123.98it/s]\n",
      "2022-03-01 17:57:01.056 | DEBUG    | neurgoo.trainers:fit:142 - Epoch=18/75 | Epoch Train Cost=0.28145514484609985 | | Epoch Val Cost=0.27824117445377344 | Train Acc=0.9396666666666667 | Val Acc=0.9418 | Delta time=8.782475709915161\n",
      "938it [00:09, 102.89it/s]\n",
      "2022-03-01 17:57:11.500 | DEBUG    | neurgoo.trainers:fit:142 - Epoch=19/75 | Epoch Train Cost=0.27350119512311577 | | Epoch Val Cost=0.27221899841861313 | Train Acc=0.9413 | Val Acc=0.942 | Delta time=10.194430828094482\n",
      "938it [00:09, 102.43it/s]\n",
      "2022-03-01 17:57:22.095 | DEBUG    | neurgoo.trainers:fit:142 - Epoch=20/75 | Epoch Train Cost=0.2658857792252956 | | Epoch Val Cost=0.26680313187658206 | Train Acc=0.9426666666666667 | Val Acc=0.9436 | Delta time=10.35737681388855\n",
      "938it [00:09, 98.36it/s] \n",
      "2022-03-01 17:57:33.066 | DEBUG    | neurgoo.trainers:fit:142 - Epoch=21/75 | Epoch Train Cost=0.25887526144425177 | | Epoch Val Cost=0.25771762577220725 | Train Acc=0.94315 | Val Acc=0.9448 | Delta time=10.72164273262024\n",
      "938it [00:09, 103.16it/s]\n",
      "2022-03-01 17:57:43.508 | DEBUG    | neurgoo.trainers:fit:142 - Epoch=22/75 | Epoch Train Cost=0.2525408141873788 | | Epoch Val Cost=0.25428250286090726 | Train Acc=0.9446 | Val Acc=0.9456 | Delta time=10.18234372138977\n",
      "938it [00:10, 93.55it/s] \n",
      "2022-03-01 17:57:54.973 | DEBUG    | neurgoo.trainers:fit:142 - Epoch=23/75 | Epoch Train Cost=0.24611225260644462 | | Epoch Val Cost=0.2480240490042995 | Train Acc=0.9461666666666667 | Val Acc=0.9458 | Delta time=11.209048986434937\n",
      "938it [00:08, 115.70it/s]\n",
      "2022-03-01 17:58:04.531 | DEBUG    | neurgoo.trainers:fit:142 - Epoch=24/75 | Epoch Train Cost=0.24010773516888037 | | Epoch Val Cost=0.2429622516189049 | Train Acc=0.9466166666666667 | Val Acc=0.9472 | Delta time=9.294437170028687\n",
      "938it [00:09, 98.90it/s] \n",
      "2022-03-01 17:58:15.388 | DEBUG    | neurgoo.trainers:fit:142 - Epoch=25/75 | Epoch Train Cost=0.23465298549695676 | | Epoch Val Cost=0.23741168612444216 | Train Acc=0.94815 | Val Acc=0.9474 | Delta time=10.60776424407959\n",
      "938it [00:09, 98.63it/s] \n",
      "2022-03-01 17:58:26.356 | DEBUG    | neurgoo.trainers:fit:142 - Epoch=26/75 | Epoch Train Cost=0.2290728036929057 | | Epoch Val Cost=0.23329757074177168 | Train Acc=0.949 | Val Acc=0.948 | Delta time=10.733147144317627\n",
      "938it [00:09, 96.67it/s] \n",
      "2022-03-01 17:58:37.370 | DEBUG    | neurgoo.trainers:fit:142 - Epoch=27/75 | Epoch Train Cost=0.22401542316369044 | | Epoch Val Cost=0.22702036959194508 | Train Acc=0.9501333333333334 | Val Acc=0.9492 | Delta time=10.772474527359009\n",
      "938it [00:07, 122.74it/s]\n",
      "2022-03-01 17:58:46.275 | DEBUG    | neurgoo.trainers:fit:142 - Epoch=28/75 | Epoch Train Cost=0.21895436192313805 | | Epoch Val Cost=0.22544221517251026 | Train Acc=0.95065 | Val Acc=0.9502 | Delta time=8.668061971664429\n",
      "938it [00:07, 122.73it/s]\n",
      "2022-03-01 17:58:55.300 | DEBUG    | neurgoo.trainers:fit:142 - Epoch=29/75 | Epoch Train Cost=0.21438422383939487 | | Epoch Val Cost=0.21897754569446978 | Train Acc=0.9519166666666666 | Val Acc=0.9498 | Delta time=8.790821075439453\n",
      "938it [00:07, 121.62it/s]\n",
      "2022-03-01 17:59:04.324 | DEBUG    | neurgoo.trainers:fit:142 - Epoch=30/75 | Epoch Train Cost=0.2098541469827677 | | Epoch Val Cost=0.216624442175268 | Train Acc=0.9527666666666667 | Val Acc=0.9512 | Delta time=8.77967619895935\n",
      "938it [00:07, 127.06it/s]\n",
      "2022-03-01 17:59:13.101 | DEBUG    | neurgoo.trainers:fit:142 - Epoch=31/75 | Epoch Train Cost=0.2054844548925691 | | Epoch Val Cost=0.2126182160859491 | Train Acc=0.9534833333333333 | Val Acc=0.9518 | Delta time=8.54150938987732\n",
      "938it [00:06, 141.49it/s]\n",
      "2022-03-01 17:59:21.027 | DEBUG    | neurgoo.trainers:fit:142 - Epoch=32/75 | Epoch Train Cost=0.20151983113424932 | | Epoch Val Cost=0.20947137629764073 | Train Acc=0.9542666666666667 | Val Acc=0.9522 | Delta time=7.664639234542847\n",
      "938it [00:07, 131.43it/s]\n",
      "2022-03-01 17:59:29.473 | DEBUG    | neurgoo.trainers:fit:142 - Epoch=33/75 | Epoch Train Cost=0.19724770158937543 | | Epoch Val Cost=0.20477464750875402 | Train Acc=0.9549333333333333 | Val Acc=0.9532 | Delta time=8.219849109649658\n",
      "938it [00:07, 128.34it/s]\n",
      "2022-03-01 17:59:38.151 | DEBUG    | neurgoo.trainers:fit:142 - Epoch=34/75 | Epoch Train Cost=0.19337436179732695 | | Epoch Val Cost=0.201696429409092 | Train Acc=0.9555666666666667 | Val Acc=0.9522 | Delta time=8.439588069915771\n",
      "938it [00:06, 155.33it/s]\n",
      "2022-03-01 17:59:45.490 | DEBUG    | neurgoo.trainers:fit:142 - Epoch=35/75 | Epoch Train Cost=0.18984725007035494 | | Epoch Val Cost=0.19791329383143633 | Train Acc=0.95655 | Val Acc=0.9546 | Delta time=7.080716848373413\n",
      "938it [00:08, 116.51it/s]\n",
      "2022-03-01 17:59:54.879 | DEBUG    | neurgoo.trainers:fit:142 - Epoch=36/75 | Epoch Train Cost=0.18620035236496177 | | Epoch Val Cost=0.1957609849022258 | Train Acc=0.95765 | Val Acc=0.9546 | Delta time=9.167023658752441\n",
      "938it [00:08, 116.60it/s]\n",
      "2022-03-01 18:00:04.380 | DEBUG    | neurgoo.trainers:fit:142 - Epoch=37/75 | Epoch Train Cost=0.18280583549453513 | | Epoch Val Cost=0.1927095490364669 | Train Acc=0.9582166666666667 | Val Acc=0.9562 | Delta time=9.223464012145996\n",
      "938it [00:07, 120.31it/s]\n",
      "2022-03-01 18:00:13.474 | DEBUG    | neurgoo.trainers:fit:142 - Epoch=38/75 | Epoch Train Cost=0.1793074803616424 | | Epoch Val Cost=0.18988865699020482 | Train Acc=0.95905 | Val Acc=0.9558 | Delta time=8.850625276565552\n",
      "938it [00:08, 117.22it/s]\n",
      "2022-03-01 18:00:22.800 | DEBUG    | neurgoo.trainers:fit:142 - Epoch=39/75 | Epoch Train Cost=0.17644353994350526 | | Epoch Val Cost=0.18645128592678845 | Train Acc=0.9594 | Val Acc=0.956 | Delta time=9.087199926376343\n",
      "938it [00:07, 120.30it/s]\n",
      "2022-03-01 18:00:31.928 | DEBUG    | neurgoo.trainers:fit:142 - Epoch=40/75 | Epoch Train Cost=0.1731525607355568 | | Epoch Val Cost=0.18445820887906494 | Train Acc=0.9598333333333333 | Val Acc=0.9562 | Delta time=8.894381523132324\n",
      "938it [00:08, 115.54it/s]\n",
      "2022-03-01 18:00:41.457 | DEBUG    | neurgoo.trainers:fit:142 - Epoch=41/75 | Epoch Train Cost=0.17029887180020653 | | Epoch Val Cost=0.1805382058101407 | Train Acc=0.9605666666666667 | Val Acc=0.9578 | Delta time=9.275347471237183\n",
      "938it [00:07, 120.87it/s]\n",
      "2022-03-01 18:00:50.498 | DEBUG    | neurgoo.trainers:fit:142 - Epoch=42/75 | Epoch Train Cost=0.16730684150569342 | | Epoch Val Cost=0.17818048024175445 | Train Acc=0.96105 | Val Acc=0.9582 | Delta time=8.805184841156006\n",
      "938it [00:08, 116.99it/s]\n",
      "2022-03-01 18:00:59.838 | DEBUG    | neurgoo.trainers:fit:142 - Epoch=43/75 | Epoch Train Cost=0.16458706296923373 | | Epoch Val Cost=0.17679153945392254 | Train Acc=0.9615 | Val Acc=0.9578 | Delta time=9.077100038528442\n",
      "938it [00:07, 118.80it/s]\n",
      "2022-03-01 18:01:09.086 | DEBUG    | neurgoo.trainers:fit:142 - Epoch=44/75 | Epoch Train Cost=0.16177167883562632 | | Epoch Val Cost=0.17322613384400018 | Train Acc=0.9620666666666666 | Val Acc=0.9592 | Delta time=9.009434700012207\n",
      "938it [00:08, 115.39it/s]\n",
      "2022-03-01 18:01:18.563 | DEBUG    | neurgoo.trainers:fit:142 - Epoch=45/75 | Epoch Train Cost=0.1591605105849226 | | Epoch Val Cost=0.17362204689646873 | Train Acc=0.96265 | Val Acc=0.9596 | Delta time=9.222205877304077\n",
      "938it [00:08, 116.96it/s]\n",
      "2022-03-01 18:01:27.928 | DEBUG    | neurgoo.trainers:fit:142 - Epoch=46/75 | Epoch Train Cost=0.1568264409985312 | | Epoch Val Cost=0.17058116594108935 | Train Acc=0.96285 | Val Acc=0.9602 | Delta time=9.129762411117554\n",
      "938it [00:09, 104.12it/s]\n",
      "2022-03-01 18:01:38.347 | DEBUG    | neurgoo.trainers:fit:142 - Epoch=47/75 | Epoch Train Cost=0.1541915392390432 | | Epoch Val Cost=0.16743773026333308 | Train Acc=0.9637166666666667 | Val Acc=0.9618 | Delta time=10.157292366027832\n",
      "938it [00:07, 130.18it/s]\n",
      "2022-03-01 18:01:46.833 | DEBUG    | neurgoo.trainers:fit:142 - Epoch=48/75 | Epoch Train Cost=0.15202937832423627 | | Epoch Val Cost=0.16667091857524588 | Train Acc=0.9639166666666666 | Val Acc=0.9614 | Delta time=8.225733995437622\n",
      "938it [00:08, 116.36it/s]\n",
      "2022-03-01 18:01:56.270 | DEBUG    | neurgoo.trainers:fit:142 - Epoch=49/75 | Epoch Train Cost=0.15002760168326779 | | Epoch Val Cost=0.16406934840548515 | Train Acc=0.9645166666666667 | Val Acc=0.961 | Delta time=9.219014883041382\n",
      "938it [00:07, 132.47it/s]\n",
      "2022-03-01 18:02:04.686 | DEBUG    | neurgoo.trainers:fit:142 - Epoch=50/75 | Epoch Train Cost=0.1473796830456255 | | Epoch Val Cost=0.162533925920736 | Train Acc=0.96485 | Val Acc=0.9616 | Delta time=8.148350954055786\n",
      "938it [00:08, 107.70it/s]\n",
      "2022-03-01 18:02:14.728 | DEBUG    | neurgoo.trainers:fit:142 - Epoch=51/75 | Epoch Train Cost=0.14519786625829584 | | Epoch Val Cost=0.16136684775687377 | Train Acc=0.9652166666666666 | Val Acc=0.9626 | Delta time=9.776721477508545\n",
      "938it [00:08, 111.71it/s]\n",
      "2022-03-01 18:02:24.546 | DEBUG    | neurgoo.trainers:fit:142 - Epoch=52/75 | Epoch Train Cost=0.14302290727295794 | | Epoch Val Cost=0.15911460496795243 | Train Acc=0.9657166666666667 | Val Acc=0.9634 | Delta time=9.562984466552734\n",
      "938it [00:08, 107.45it/s]\n",
      "2022-03-01 18:02:34.572 | DEBUG    | neurgoo.trainers:fit:142 - Epoch=53/75 | Epoch Train Cost=0.1408054969278521 | | Epoch Val Cost=0.15697512548898207 | Train Acc=0.9659166666666666 | Val Acc=0.9646 | Delta time=9.776587009429932\n",
      "938it [00:08, 107.35it/s]\n",
      "2022-03-01 18:02:44.667 | DEBUG    | neurgoo.trainers:fit:142 - Epoch=54/75 | Epoch Train Cost=0.1390068604226642 | | Epoch Val Cost=0.15576923666092551 | Train Acc=0.9661833333333333 | Val Acc=0.9628 | Delta time=9.83644700050354\n",
      "938it [00:08, 115.33it/s]\n",
      "2022-03-01 18:02:54.225 | DEBUG    | neurgoo.trainers:fit:142 - Epoch=55/75 | Epoch Train Cost=0.13723261871859604 | | Epoch Val Cost=0.15362540178889153 | Train Acc=0.9667 | Val Acc=0.964 | Delta time=9.289743423461914\n",
      "938it [00:08, 110.80it/s]\n",
      "2022-03-01 18:03:04.054 | DEBUG    | neurgoo.trainers:fit:142 - Epoch=56/75 | Epoch Train Cost=0.13506685413440764 | | Epoch Val Cost=0.15245192225747986 | Train Acc=0.9672333333333333 | Val Acc=0.9646 | Delta time=9.56802225112915\n",
      "938it [00:08, 111.82it/s]\n",
      "2022-03-01 18:03:13.766 | DEBUG    | neurgoo.trainers:fit:142 - Epoch=57/75 | Epoch Train Cost=0.13338709505326227 | | Epoch Val Cost=0.1512414992740725 | Train Acc=0.9676 | Val Acc=0.9644 | Delta time=9.457786798477173\n",
      "938it [00:08, 113.16it/s]\n",
      "2022-03-01 18:03:23.420 | DEBUG    | neurgoo.trainers:fit:142 - Epoch=58/75 | Epoch Train Cost=0.13137270373505566 | | Epoch Val Cost=0.14954121952310234 | Train Acc=0.9678833333333333 | Val Acc=0.966 | Delta time=9.420408487319946\n",
      "938it [00:07, 128.49it/s]\n",
      "2022-03-01 18:03:32.115 | DEBUG    | neurgoo.trainers:fit:142 - Epoch=59/75 | Epoch Train Cost=0.129690793229856 | | Epoch Val Cost=0.14882589776789623 | Train Acc=0.9682333333333333 | Val Acc=0.966 | Delta time=8.423085927963257\n",
      "938it [00:07, 120.70it/s]\n",
      "2022-03-01 18:03:41.211 | DEBUG    | neurgoo.trainers:fit:142 - Epoch=60/75 | Epoch Train Cost=0.12789474617835261 | | Epoch Val Cost=0.14767857867425074 | Train Acc=0.9688833333333333 | Val Acc=0.9666 | Delta time=8.85298466682434\n",
      "938it [00:08, 117.06it/s]\n",
      "2022-03-01 18:03:50.594 | DEBUG    | neurgoo.trainers:fit:142 - Epoch=61/75 | Epoch Train Cost=0.126180185022414 | | Epoch Val Cost=0.14652591466719797 | Train Acc=0.9689333333333333 | Val Acc=0.9668 | Delta time=9.142333030700684\n",
      "938it [00:08, 115.57it/s]\n",
      "2022-03-01 18:03:59.949 | DEBUG    | neurgoo.trainers:fit:142 - Epoch=62/75 | Epoch Train Cost=0.12451477194444685 | | Epoch Val Cost=0.14446688266525956 | Train Acc=0.9693166666666667 | Val Acc=0.967 | Delta time=9.130844354629517\n",
      "938it [00:07, 118.95it/s]\n",
      "2022-03-01 18:04:09.116 | DEBUG    | neurgoo.trainers:fit:142 - Epoch=63/75 | Epoch Train Cost=0.1227707993686346 | | Epoch Val Cost=0.1434367643219324 | Train Acc=0.9693333333333334 | Val Acc=0.966 | Delta time=8.944730997085571\n",
      "938it [00:07, 119.10it/s]\n",
      "2022-03-01 18:04:18.302 | DEBUG    | neurgoo.trainers:fit:142 - Epoch=64/75 | Epoch Train Cost=0.12138540316062431 | | Epoch Val Cost=0.14285146318646297 | Train Acc=0.9701166666666666 | Val Acc=0.968 | Delta time=8.943078517913818\n",
      "938it [00:08, 116.89it/s]\n",
      "2022-03-01 18:04:27.573 | DEBUG    | neurgoo.trainers:fit:142 - Epoch=65/75 | Epoch Train Cost=0.11974602735445344 | | Epoch Val Cost=0.14365008308908273 | Train Acc=0.9702666666666667 | Val Acc=0.9672 | Delta time=9.028592109680176\n"
     ]
    },
    {
     "name": "stderr",
     "output_type": "stream",
     "text": [
      "938it [00:07, 122.80it/s]\n",
      "2022-03-01 18:04:36.558 | DEBUG    | neurgoo.trainers:fit:142 - Epoch=66/75 | Epoch Train Cost=0.11823044710031341 | | Epoch Val Cost=0.14109951719706437 | Train Acc=0.971 | Val Acc=0.9688 | Delta time=8.750400066375732\n",
      "938it [00:07, 124.55it/s]\n",
      "2022-03-01 18:04:45.430 | DEBUG    | neurgoo.trainers:fit:142 - Epoch=67/75 | Epoch Train Cost=0.11669293694670949 | | Epoch Val Cost=0.14005406445236837 | Train Acc=0.9709 | Val Acc=0.9682 | Delta time=8.632511854171753\n",
      "938it [00:07, 130.87it/s]\n",
      "2022-03-01 18:04:53.945 | DEBUG    | neurgoo.trainers:fit:142 - Epoch=68/75 | Epoch Train Cost=0.11529454203564653 | | Epoch Val Cost=0.13826342622682297 | Train Acc=0.9713333333333334 | Val Acc=0.9696 | Delta time=8.27390456199646\n",
      "938it [00:07, 121.27it/s]\n",
      "2022-03-01 18:05:02.977 | DEBUG    | neurgoo.trainers:fit:142 - Epoch=69/75 | Epoch Train Cost=0.11389750633339624 | | Epoch Val Cost=0.13725092729057983 | Train Acc=0.9716166666666667 | Val Acc=0.9692 | Delta time=8.786540269851685\n",
      "938it [00:07, 123.84it/s]\n",
      "2022-03-01 18:05:11.850 | DEBUG    | neurgoo.trainers:fit:142 - Epoch=70/75 | Epoch Train Cost=0.11244341234479675 | | Epoch Val Cost=0.1370079701869227 | Train Acc=0.9720833333333333 | Val Acc=0.9696 | Delta time=8.647502422332764\n",
      "938it [00:07, 126.05it/s]\n",
      "2022-03-01 18:05:20.635 | DEBUG    | neurgoo.trainers:fit:142 - Epoch=71/75 | Epoch Train Cost=0.11127023267465437 | | Epoch Val Cost=0.1366330382121401 | Train Acc=0.9722166666666666 | Val Acc=0.9692 | Delta time=8.53525424003601\n",
      "938it [00:06, 134.64it/s]\n",
      "2022-03-01 18:05:28.990 | DEBUG    | neurgoo.trainers:fit:142 - Epoch=72/75 | Epoch Train Cost=0.10979210377741183 | | Epoch Val Cost=0.1351621459231983 | Train Acc=0.9726666666666667 | Val Acc=0.9696 | Delta time=8.123482704162598\n",
      "938it [00:07, 132.47it/s]\n",
      "2022-03-01 18:05:37.408 | DEBUG    | neurgoo.trainers:fit:142 - Epoch=73/75 | Epoch Train Cost=0.10855576973148642 | | Epoch Val Cost=0.1336784142904624 | Train Acc=0.97285 | Val Acc=0.97 | Delta time=8.176899433135986\n",
      "938it [00:07, 120.65it/s]\n",
      "2022-03-01 18:05:46.502 | DEBUG    | neurgoo.trainers:fit:142 - Epoch=74/75 | Epoch Train Cost=0.10724502924184882 | | Epoch Val Cost=0.13321116254775486 | Train Acc=0.9732333333333333 | Val Acc=0.97 | Delta time=8.854064226150513\n",
      "938it [00:08, 114.87it/s]\n",
      "2022-03-01 18:05:55.965 | DEBUG    | neurgoo.trainers:fit:142 - Epoch=75/75 | Epoch Train Cost=0.10606033014057441 | | Epoch Val Cost=0.13272128138026493 | Train Acc=0.9736166666666667 | Val Acc=0.9696 | Delta time=9.218159437179565\n",
      "2022-03-01 18:05:56.078 | INFO     | neurgoo.trainers:fit:151 - After training | Epoch=75/75 | Train loss=0.10606033014057441 | Test loss=0.14396271524315854 | Train Acc=0.9736166666666667 | Test Acc=0.968 | Delta time=688.3884332180023\n"
     ]
    }
   ],
   "source": [
    "history = trainer.fit(\n",
    "    X_train=X_train,\n",
    "    Y_train=Y_train,\n",
    "    X_val=X_val,\n",
    "    Y_val=Y_val,\n",
    "    X_test=X_test,\n",
    "    Y_test=Y_test,\n",
    "    nepochs=75,\n",
    "    batch_size=64,\n",
    ")"
   ]
  },
  {
   "cell_type": "markdown",
   "id": "820cc4f6",
   "metadata": {},
   "source": [
    "### Understanding history\n",
    "\n",
    "The history `dict` returned by the trainer consits of training history for train/val/test.\n",
    "\n",
    "The `train` and `val`  consists of list of `neurgoo.misc.eval.EvalData` objects. Each `EvalData` object can store:\n",
    "- epoch\n",
    "- loss\n",
    "- accuracy\n",
    "- precision (to be implemented)\n",
    "- recall (to be implemented)\n",
    "\n",
    "Unlike `train` and `val`, the `test` history is a single `EvalData` object, not a list which stores final evaluation data after the end of the training."
   ]
  },
  {
   "cell_type": "code",
   "execution_count": 60,
   "id": "cc928cb9",
   "metadata": {},
   "outputs": [
    {
     "data": {
      "text/plain": [
       "[EvalData(epoch=1, accuracy=0.8517833333333333, precision=-1, recall=-1, loss=2.388252621715065),\n",
       " EvalData(epoch=2, accuracy=0.8816333333333334, precision=-1, recall=-1, loss=0.784920109563179),\n",
       " EvalData(epoch=3, accuracy=0.8943, precision=-1, recall=-1, loss=0.6160126179947839),\n",
       " EvalData(epoch=4, accuracy=0.9013333333333333, precision=-1, recall=-1, loss=0.5357843644835831),\n",
       " EvalData(epoch=5, accuracy=0.9068333333333334, precision=-1, recall=-1, loss=0.4867780047229557),\n",
       " EvalData(epoch=6, accuracy=0.9114833333333333, precision=-1, recall=-1, loss=0.45185245088564),\n",
       " EvalData(epoch=7, accuracy=0.91515, precision=-1, recall=-1, loss=0.4246390236342028),\n",
       " EvalData(epoch=8, accuracy=0.9190666666666667, precision=-1, recall=-1, loss=0.40305102702706097),\n",
       " EvalData(epoch=9, accuracy=0.92195, precision=-1, recall=-1, loss=0.3844931098643734),\n",
       " EvalData(epoch=10, accuracy=0.92485, precision=-1, recall=-1, loss=0.36868778362916954)]"
      ]
     },
     "execution_count": 60,
     "metadata": {},
     "output_type": "execute_result"
    }
   ],
   "source": [
    "history[\"train\"][:10]"
   ]
  },
  {
   "cell_type": "code",
   "execution_count": 61,
   "id": "1bfa26f1",
   "metadata": {},
   "outputs": [
    {
     "data": {
      "text/plain": [
       "[EvalData(epoch=1, accuracy=0.8674, precision=-1, recall=-1, loss=0.8745363463226647),\n",
       " EvalData(epoch=2, accuracy=0.8902, precision=-1, recall=-1, loss=0.6211433984710664),\n",
       " EvalData(epoch=3, accuracy=0.9026, precision=-1, recall=-1, loss=0.5284961513639943),\n",
       " EvalData(epoch=4, accuracy=0.909, precision=-1, recall=-1, loss=0.47725617069814097),\n",
       " EvalData(epoch=5, accuracy=0.9146, precision=-1, recall=-1, loss=0.44310650297232507),\n",
       " EvalData(epoch=6, accuracy=0.9164, precision=-1, recall=-1, loss=0.41631436221160495),\n",
       " EvalData(epoch=7, accuracy=0.924, precision=-1, recall=-1, loss=0.3946568080575891),\n",
       " EvalData(epoch=8, accuracy=0.924, precision=-1, recall=-1, loss=0.37940973762074826),\n",
       " EvalData(epoch=9, accuracy=0.929, precision=-1, recall=-1, loss=0.3635861857418352),\n",
       " EvalData(epoch=10, accuracy=0.9294, precision=-1, recall=-1, loss=0.3514930871018958)]"
      ]
     },
     "execution_count": 61,
     "metadata": {},
     "output_type": "execute_result"
    }
   ],
   "source": [
    "history[\"val\"][:10]"
   ]
  },
  {
   "cell_type": "code",
   "execution_count": 62,
   "id": "eb6d965d",
   "metadata": {},
   "outputs": [
    {
     "data": {
      "text/plain": [
       "EvalData(epoch=75, accuracy=0.968, precision=-1, recall=-1, loss=0.14396271524315854)"
      ]
     },
     "execution_count": 62,
     "metadata": {},
     "output_type": "execute_result"
    }
   ],
   "source": [
    "history[\"test\"]"
   ]
  },
  {
   "cell_type": "markdown",
   "id": "711438c9",
   "metadata": {},
   "source": [
    "### Plot history\n",
    "\n",
    "We use the plotting tools from neurgoo.\n",
    "\n",
    "The `plot_history` is convenient helper that takes in the history dict and plots the metrics.\n",
    "Since, we can plot train-vs-val losses and accuracies, the parameter `plot_type` controls what type of plot we want.\n",
    "- `plot_type=\"loss\"` for plotting losses\n",
    "- `plot_type=\"accuracy\"` for plotting accuracies"
   ]
  },
  {
   "cell_type": "code",
   "execution_count": 63,
   "id": "46d066c5",
   "metadata": {},
   "outputs": [],
   "source": [
    "from neurgoo.misc.plot_utils import plot_history"
   ]
  },
  {
   "cell_type": "code",
   "execution_count": 64,
   "id": "50d57a0e",
   "metadata": {},
   "outputs": [
    {
     "data": {
      "image/png": "[encoded data removed]",
      "text/plain": [
       "<Figure size 1440x504 with 1 Axes>"
      ]
     },
     "metadata": {
      "needs_background": "light"
     },
     "output_type": "display_data"
    }
   ],
   "source": [
    "plot_history(history, plot_type=\"loss\")"
   ]
  },
  {
   "cell_type": "code",
   "execution_count": 65,
   "id": "bc175b14",
   "metadata": {
    "scrolled": false
   },
   "outputs": [
    {
     "data": {
      "image/png": "[encoded data removed]",
      "text/plain": [
       "<Figure size 1440x504 with 1 Axes>"
      ]
     },
     "metadata": {
      "needs_background": "light"
     },
     "output_type": "display_data"
    }
   ],
   "source": [
    "plot_history(history, plot_type=\"accuracy\")"
   ]
  },
  {
   "cell_type": "markdown",
   "id": "7f32683b",
   "metadata": {},
   "source": [
    "# Inference Debug\n",
    "\n",
    "Now that we have trained our model, we can do inference directly through its `predict(...)` method\n",
    "which takes in X values and gives final output.\n",
    "\n",
    "In this section we will do infernece on a random test data point.\n",
    "\n",
    "The `plot_images` will plot image as well as the label assigned from target or got from predictions (np.argmax).\n",
    "For the predicted Y values, we also add a probability text beside the label to debug the probabilities.\n",
    "\n",
    "\n",
    "## Note\n",
    "\n",
    "If we have the final layer as `neurgoo.layers.activations.Softmax`, we can get normalized probabilities directly from the prediction.\n",
    "\n",
    "If we have usual `Linear` layer in the last, we won't have normalized probabilitites. So, we need to pass the prediction to a Softmax and then get the probabilities."
   ]
  },
  {
   "cell_type": "code",
   "execution_count": 66,
   "id": "a86a1b0a",
   "metadata": {},
   "outputs": [],
   "source": [
    "import random"
   ]
  },
  {
   "cell_type": "code",
   "execution_count": 67,
   "id": "b380df8c",
   "metadata": {},
   "outputs": [],
   "source": [
    "def plot_images(X, Y, cols=5, title=\"\"):\n",
    "    print(f\"X.shape: {X.shape} | Y.shape: {Y.shape}\")\n",
    "    _, axes = plt.subplots(nrows=1, ncols=cols, figsize=(10, 3))\n",
    "    n = int(X.shape[1]**0.5)\n",
    "    probs = Softmax()(Y)\n",
    "    for ax, img, t, p in zip(axes, X, Y, probs):\n",
    "        label = np.argmax(t)\n",
    "        prob = round(np.max(p), 3)\n",
    "        img = img.reshape((n, n))\n",
    "        ax.set_axis_off()\n",
    "        ax.imshow(img, cmap=plt.cm.gray_r, interpolation=\"nearest\")\n",
    "        txt = f\"{title}: {label}\"\n",
    "        txt = f\"{txt}({prob})\" if \"inf\" in title.lower() else txt\n",
    "        ax.set_title(txt)"
   ]
  },
  {
   "cell_type": "code",
   "execution_count": 68,
   "id": "3074d7e9",
   "metadata": {},
   "outputs": [
    {
     "data": {
      "text/plain": [
       "((5000, 784), (5000, 10))"
      ]
     },
     "execution_count": 68,
     "metadata": {},
     "output_type": "execute_result"
    }
   ],
   "source": [
    "X_test.shape, Y_test.shape"
   ]
  },
  {
   "cell_type": "code",
   "execution_count": 71,
   "id": "7f1ec5e6",
   "metadata": {},
   "outputs": [
    {
     "name": "stdout",
     "output_type": "stream",
     "text": [
      "X.shape: (7, 784) | Y.shape: (7, 10)\n",
      "X.shape: (7, 784) | Y.shape: (7, 10)\n",
      "X.shape: (7, 784) | Y.shape: (7, 10)\n",
      "X.shape: (7, 784) | Y.shape: (7, 10)\n"
     ]
    },
    {
     "data": {
      "image/png": "[encoded data removed]",
      "text/plain": [
       "<Figure size 720x216 with 7 Axes>"
      ]
     },
     "metadata": {
      "needs_background": "light"
     },
     "output_type": "display_data"
    },
    {
     "data": {
      "image/png": "[encoded data removed]",
      "text/plain": [
       "<Figure size 720x216 with 7 Axes>"
      ]
     },
     "metadata": {
      "needs_background": "light"
     },
     "output_type": "display_data"
    },
    {
     "data": {
      "image/png": "[encoded data removed]",
      "text/plain": [
       "<Figure size 720x216 with 7 Axes>"
      ]
     },
     "metadata": {
      "needs_background": "light"
     },
     "output_type": "display_data"
    },
    {
     "data": {
      "image/png": "[encoded data removed]",
      "text/plain": [
       "<Figure size 720x216 with 7 Axes>"
      ]
     },
     "metadata": {
      "needs_background": "light"
     },
     "output_type": "display_data"
    }
   ],
   "source": [
    "model.eval_mode()\n",
    "k = 7\n",
    "for i in range(2):\n",
    "    indices_infer = random.choices(range(len(X_test)), k=k)\n",
    "    X_infer, Y_infer_target = X_test[indices_infer], Y_test[indices_infer]\n",
    "    \n",
    "    # forward pass\n",
    "    predictions = model.predict(X_infer)\n",
    "    \n",
    "    plot_images(X_infer, Y_infer_target, cols=k, title=\"Target\")\n",
    "    plot_images(X_infer, predictions, cols=k, title=\"Inf\")"
   ]
  },
  {
   "cell_type": "markdown",
   "id": "bb020801",
   "metadata": {},
   "source": [
    "# Observations\n",
    "\n",
    "1) For visually similar numbers like 7 and 1, sometimes the model is less confidence while trying to predict for the number **7**. In such cases, we have relatively lower probabilities like `0.8`, `0.9`, etc. This can be mitigated if we \"properly\" trained the model with:\n",
    "    - better architecture\n",
    "    - more training time\n",
    "    - adding regularizations and dropout tricks\n",
    "    \n",
    "2) For unique images like `0, 5, 6`, we see high probilities as the model doesn't get \"confused\" much."
   ]
  },
  {
   "cell_type": "markdown",
   "id": "0bd76c9a",
   "metadata": {},
   "source": [
    "# Further Improvements to neurgoo\n",
    "\n",
    "There's definitely more rooms for improvement in `neurgoo`. We could:\n",
    "- implement `Dropout` and `BatchNorm` layers at `neurgoo.layers` using the base class `neurgoo._base.AbstractLayer`\n",
    "- add regularization techniques\n",
    "- implement better optimizers such as addition of Nesterov momentum, Adam optimizers, etc. This could be done by adding new optimizer components at `neurgoo.optimizers`, directly derived from `neurgoo._base.AbstractOptimizer`\n",
    "- use automatic differentiation techniques [0] for computing accurate gradients."
   ]
  },
  {
   "cell_type": "markdown",
   "id": "704487f4",
   "metadata": {},
   "source": [
    "# References and footnotes\n",
    "\n",
    "- [0] - https://en.wikipedia.org/wiki/Automatic_differentiation\n",
    "- [PyTorch Internals](http://blog.ezyang.com/2019/05/pytorch-internals/)\n",
    "- [How Computational Graphs are Constructed in PyTorch](https://pytorch.org/blog/computational-graphs-constructed-in-pytorch/)\n",
    "- [Why is the ReLU function not differentiable at x=0?](https://sebastianraschka.com/faq/docs/relu-derivative.html)"
   ]
  },
  {
   "cell_type": "code",
   "execution_count": null,
   "id": "0209fd3c",
   "metadata": {},
   "outputs": [],
   "source": []
  }
 ],
 "metadata": {
  "kernelspec": {
   "display_name": "Python 3 (ipykernel)",
   "language": "python",
   "name": "python3"
  },
  "language_info": {
   "codemirror_mode": {
    "name": "ipython",
    "version": 3
   },
   "file_extension": ".py",
   "mimetype": "text/x-python",
   "name": "python",
   "nbconvert_exporter": "python",
   "pygments_lexer": "ipython3",
   "version": "3.8.10"
  }
 },
 "nbformat": 4,
 "nbformat_minor": 5
}
